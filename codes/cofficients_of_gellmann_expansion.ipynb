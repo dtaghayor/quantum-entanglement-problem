{
 "cells": [
  {
   "cell_type": "markdown",
   "metadata": {
    "colab_type": "text",
    "id": "unSPjdCJTRSC"
   },
   "source": [
    "# 1. Preliminaries"
   ]
  },
  {
   "cell_type": "code",
   "execution_count": 1,
   "metadata": {
    "colab": {
     "base_uri": "https://localhost:8080/",
     "height": 238
    },
    "colab_type": "code",
    "id": "NGDyXM5tUMjC",
    "outputId": "7ccbeeca-c61b-4c9d-f448-5b1f5dc4b110"
   },
   "outputs": [
    {
     "name": "stdout",
     "output_type": "stream",
     "text": [
      "Requirement already satisfied: qutip in c:\\users\\etma\\anaconda3\\lib\\site-packages (4.5.0)\n",
      "Requirement already satisfied: numpy>=1.12 in c:\\users\\etma\\anaconda3\\lib\\site-packages (from qutip) (1.16.4)\n",
      "Requirement already satisfied: scipy>=1.0 in c:\\users\\etma\\anaconda3\\lib\\site-packages (from qutip) (1.2.1)\n",
      "Requirement already satisfied: cython>=0.21 in c:\\users\\etma\\anaconda3\\lib\\site-packages (from qutip) (0.29.12)\n"
     ]
    }
   ],
   "source": [
    "!pip install qutip"
   ]
  },
  {
   "cell_type": "code",
   "execution_count": 2,
   "metadata": {
    "colab": {},
    "colab_type": "code",
    "id": "i049jpRiTRSL"
   },
   "outputs": [],
   "source": [
    "import numpy as np\n",
    "import qutip as qp\n",
    "import scipy as sp"
   ]
  },
  {
   "cell_type": "markdown",
   "metadata": {
    "colab_type": "text",
    "id": "wuLJgC-mTRSa"
   },
   "source": [
    "# 2. Gell_Mann matrix generator function"
   ]
  },
  {
   "cell_type": "markdown",
   "metadata": {
    "colab_type": "text",
    "id": "blbjKvYNTRSf"
   },
   "source": [
    "this function will generate the gellmann matrix of dimension d.\n",
    "\n",
    "the function \"gellmann(j,k,d)\" will generate the jth_kth gellmann matrix of dimension d. so for every d dimension we have d^2 gellmann matrix. one of them is I, so the number of gellmann matrix that is not trivial is (d^2 - 1)."
   ]
  },
  {
   "cell_type": "code",
   "execution_count": 3,
   "metadata": {
    "colab": {},
    "colab_type": "code",
    "id": "7djjHtxcTRSl"
   },
   "outputs": [],
   "source": [
    "\"\"\"Generate generalized Gell-Mann matrices.\n",
    "  .. module:: gellmann.py\n",
    "     :synopsis: Generate generalized Gell-Mann matrices\n",
    "  .. moduleauthor:: Jonathan Gross <jarthurgross@gmail.com>\n",
    "\"\"\"\n",
    "from itertools import product\n",
    "\n",
    "def gellmann(j, k, d):\n",
    "    r\"\"\"Returns a generalized Gell-Mann matrix of dimension d.\n",
    "    \n",
    "    According to the convention in *Bloch Vectors for Qubits* by Bertlmann and\n",
    "    Krammer (2008), returns :math:`\\Lambda^j` for :math:`1\\leq j=k\\leq d-1`,\n",
    "    :math:`\\Lambda^{kj}_s` for :math:`1\\leq k<j\\leq d`, :math:`\\Lambda^{jk}_a`\n",
    "    for :math:`1\\leq j<k\\leq d`, and :math:`I` for :math:`j=k=d`.\n",
    "    Parameters\n",
    "    ----------\n",
    "    j : positive integer\n",
    "        Index for generalized Gell-Mann matrix\n",
    "    k : positive integer\n",
    "        Index for generalized Gell-Mann matrix\n",
    "    d : positive integer\n",
    "        Dimension of the generalized Gell-Mann matrix\n",
    "    Returns\n",
    "    -------\n",
    "    numpy.array\n",
    "        A genereralized Gell-Mann matrix.\n",
    "    \"\"\"\n",
    "\n",
    "    if j > k:\n",
    "        gjkd = np.zeros((d, d), dtype=np.complex128)\n",
    "        gjkd[j - 1][k - 1] = 1\n",
    "        gjkd[k - 1][j - 1] = 1\n",
    "    elif k > j:\n",
    "        gjkd = np.zeros((d, d), dtype=np.complex128)\n",
    "        gjkd[j - 1][k - 1] = -1.j\n",
    "        gjkd[k - 1][j - 1] = 1.j\n",
    "    elif j == k and j < d:\n",
    "        gjkd = np.sqrt(2/(j*(j + 1)))*np.diag([1 + 0.j if n <= j\n",
    "                                               else (-j + 0.j if n == (j + 1)\n",
    "                                                     else 0 + 0.j)\n",
    "                                               for n in range(1, d + 1)])\n",
    "    else:\n",
    "        gjkd = np.diag([1 + 0.j for n in range(1, d + 1)])\n",
    "\n",
    "    return gjkd\n",
    "\n",
    "def get_basis(d):\n",
    "    r\"\"\"Return a basis of operators.\n",
    "    \n",
    "    The basis is made up of orthogonal Hermitian operators on a Hilbert space\n",
    "    of dimension d, with the identity element in the last place.\n",
    "    Parameters\n",
    "    ----------\n",
    "    d : int\n",
    "        The dimension of the Hilbert space.\n",
    "    Returns\n",
    "    -------\n",
    "    list of numpy.array\n",
    "        The basis of operators.\n",
    "    \"\"\"\n",
    "    return [gellmann(j, k, d) for j, k in product(range(1, d + 1), repeat=2)]"
   ]
  },
  {
   "cell_type": "markdown",
   "metadata": {
    "colab_type": "text",
    "id": "-UB8s-2LTRS3"
   },
   "source": [
    "in this cell the gellmann matrix of 3 dimension will generate and they will save in a dictionary and labeled them by numbers 0,1,...,8 ."
   ]
  },
  {
   "cell_type": "code",
   "execution_count": 4,
   "metadata": {
    "colab": {
     "base_uri": "https://localhost:8080/",
     "height": 476
    },
    "colab_type": "code",
    "id": "R8h7wPAnTRS8",
    "outputId": "43fa6812-289b-4e5b-edf0-98d34b4abc3d"
   },
   "outputs": [
    {
     "data": {
      "text/plain": [
       "{'G0': array([[ 1.+0.j,  0.+0.j,  0.+0.j],\n",
       "        [ 0.+0.j, -1.+0.j,  0.+0.j],\n",
       "        [ 0.+0.j,  0.+0.j,  0.+0.j]]),\n",
       " 'G1': array([[ 0.+0.j, -0.-1.j,  0.+0.j],\n",
       "        [ 0.+1.j,  0.+0.j,  0.+0.j],\n",
       "        [ 0.+0.j,  0.+0.j,  0.+0.j]]),\n",
       " 'G2': array([[ 0.+0.j,  0.+0.j, -0.-1.j],\n",
       "        [ 0.+0.j,  0.+0.j,  0.+0.j],\n",
       "        [ 0.+1.j,  0.+0.j,  0.+0.j]]),\n",
       " 'G3': array([[0.+0.j, 1.+0.j, 0.+0.j],\n",
       "        [1.+0.j, 0.+0.j, 0.+0.j],\n",
       "        [0.+0.j, 0.+0.j, 0.+0.j]]),\n",
       " 'G4': array([[ 0.57735027+0.j,  0.        +0.j,  0.        +0.j],\n",
       "        [ 0.        +0.j,  0.57735027+0.j,  0.        +0.j],\n",
       "        [ 0.        +0.j,  0.        +0.j, -1.15470054+0.j]]),\n",
       " 'G5': array([[ 0.+0.j,  0.+0.j,  0.+0.j],\n",
       "        [ 0.+0.j,  0.+0.j, -0.-1.j],\n",
       "        [ 0.+0.j,  0.+1.j,  0.+0.j]]),\n",
       " 'G6': array([[0.+0.j, 0.+0.j, 1.+0.j],\n",
       "        [0.+0.j, 0.+0.j, 0.+0.j],\n",
       "        [1.+0.j, 0.+0.j, 0.+0.j]]),\n",
       " 'G7': array([[0.+0.j, 0.+0.j, 0.+0.j],\n",
       "        [0.+0.j, 0.+0.j, 1.+0.j],\n",
       "        [0.+0.j, 1.+0.j, 0.+0.j]]),\n",
       " 'G8': array([[1.+0.j, 0.+0.j, 0.+0.j],\n",
       "        [0.+0.j, 1.+0.j, 0.+0.j],\n",
       "        [0.+0.j, 0.+0.j, 1.+0.j]])}"
      ]
     },
     "execution_count": 4,
     "metadata": {},
     "output_type": "execute_result"
    }
   ],
   "source": [
    "\n",
    "def gellmann_basis(d):\n",
    "    gellmann_basis = {}  ## a dictionary that saved the gellmann matrices\n",
    "\n",
    "    k=0\n",
    "    for i in range(1,d+1):\n",
    "        for j in range(1,d+1):\n",
    "            gellmann_basis.update({\"G{}\".format(k):gellmann(i,j,d)})\n",
    "            k+=1\n",
    "        \n",
    "    return gellmann_basis\n",
    "\n",
    "gellmann_basis(3)"
   ]
  },
  {
   "cell_type": "markdown",
   "metadata": {
    "colab_type": "text",
    "id": "5cvp3dKLTRTT"
   },
   "source": [
    "# 3. Coefficients of gellmann's expansion"
   ]
  },
  {
   "cell_type": "markdown",
   "metadata": {
    "colab_type": "text",
    "id": "VxcJo9B-TRTW"
   },
   "source": [
    "at this cell a random density matrix will generate by qutip library.\n",
    "\n",
    "for calculating the coefficients of gellmann expansion we do this iteration:\n",
    "1. calculate the tensor product of gellmann matrices for every coefficient\n",
    "2. calculate the dot product of \"ro\" and the \"gellmann's tensor product\"\n",
    "3. calculate the trace of this matrix and divide it into 4\n",
    "4. append it to our index list"
   ]
  },
  {
   "cell_type": "code",
   "execution_count": 12,
   "metadata": {
    "colab": {
     "base_uri": "https://localhost:8080/",
     "height": 190
    },
    "colab_type": "code",
    "id": "DNrsSpG-TRTb",
    "outputId": "bd456315-ec36-446b-8c64-b7482df6a6a7"
   },
   "outputs": [
    {
     "name": "stdout",
     "output_type": "stream",
     "text": [
      "[-0.02105555, 0.00203751, 0.01979332, 0.02250977, -0.01482898, -0.00981834, -0.00197323, 0.01643552, 0.02248114, 0.00273691, -0.0339497, -0.00431171, -0.02281059, -0.02508618, -0.02480655, 0.02565827, -0.00043728, -0.03804276, -0.00676277, 0.01952881, -0.01336973, 0.00450483, 0.01074206, -0.01053976, -0.00910448, -0.0145112, 0.0211929, -0.00265626, -0.02603226, -0.01166996, -0.01630973, -0.00929702, -0.00080423, 0.00585442, -0.01093312, -0.00777188, -0.00385933, -0.00731328, 0.00717315, 0.01082607, 0.0065237, 0.01928492, 0.01953336, 0.00873372, 0.01112604, -0.01678663, -0.03560536, -0.00568023, -0.03404053, -0.01093016, -0.02621029, 0.03229175, 0.01624051, -0.0128741, 0.00137986, -0.00545632, -0.01956956, -0.01988996, -0.01132693, -0.03890426, 0.00714573, 0.00455901, -0.03863911, -0.01062942, 0.00223974, -0.00060518, 0.0023097, -0.00739486, 0.00399945, 0.00178301, 0.01282992, -0.01428926, -0.00485833, 0.01748752, 0.02124445, 0.02114959, 0.00020992, 0.00900506, -0.00608047, -0.01261106, 0.25]\n"
     ]
    },
    {
     "data": {
      "text/latex": [
       "Quantum object: dims = [[9], [9]], shape = (9, 9), type = oper, isherm = True\\begin{equation*}\\left(\\begin{array}{*{11}c}0.098 & (0.043-0.009j) & (0.005-0.038j) & (-0.013+0.037j) & (0.018+0.049j) & (0.010-0.014j) & (-0.031-0.014j) & (-0.039+9.515\\times10^{-04}j) & (0.021+0.029j)\\\\(0.043+0.009j) & 0.151 & (0.013-0.007j) & (-0.050-0.003j) & (-0.008+0.043j) & (0.014+0.001j) & (-3.611\\times10^{-04}-0.010j) & (-0.034-0.027j) & (0.015+0.053j)\\\\(0.005+0.038j) & (0.013+0.007j) & 0.143 & (0.002-0.037j) & (-0.036-3.669\\times10^{-04}j) & (0.006-0.004j) & (-0.006-0.010j) & (-0.006-0.024j) & (-0.013-0.002j)\\\\(-0.013-0.037j) & (-0.050+0.003j) & (0.002+0.037j) & 0.127 & (-0.002-0.005j) & (0.009+0.001j) & (-0.024+0.032j) & (0.038+0.032j) & (0.007-0.032j)\\\\(0.018-0.049j) & (-0.008-0.043j) & (-0.036+3.669\\times10^{-04}j) & (-0.002+0.005j) & 0.096 & (-0.020-0.027j) & (-0.033+0.036j) & (-0.003-0.002j) & (0.039-0.020j)\\\\(0.010+0.014j) & (0.014-0.001j) & (0.006+0.004j) & (0.009-0.001j) & (-0.020+0.027j) & 0.079 & (-0.004-0.033j) & (-0.013-0.012j) & (-9.873\\times10^{-04}-0.004j)\\\\(-0.031+0.014j) & (-3.611\\times10^{-04}+0.010j) & (-0.006+0.010j) & (-0.024-0.032j) & (-0.033-0.036j) & (-0.004+0.033j) & 0.099 & (0.002-0.020j) & (-0.027-0.006j)\\\\(-0.039-9.515\\times10^{-04}j) & (-0.034+0.027j) & (-0.006+0.024j) & (0.038-0.032j) & (-0.003+0.002j) & (-0.013+0.012j) & (0.002+0.020j) & 0.097 & (-0.018+0.016j)\\\\(0.021-0.029j) & (0.015-0.053j) & (-0.013+0.002j) & (0.007+0.032j) & (0.039+0.020j) & (-9.873\\times10^{-04}+0.004j) & (-0.027+0.006j) & (-0.018-0.016j) & 0.111\\\\\\end{array}\\right)\\end{equation*}"
      ],
      "text/plain": [
       "Quantum object: dims = [[9], [9]], shape = (9, 9), type = oper, isherm = True\n",
       "Qobj data =\n",
       "[[ 0.09755218+0.j          0.04285993-0.00947353j  0.00525071-0.03809771j\n",
       "  -0.01320515+0.03710845j  0.01763997+0.04884285j  0.01016612-0.01398831j\n",
       "  -0.03091916-0.01356777j -0.03941877+0.00095149j  0.02051546+0.02867404j]\n",
       " [ 0.04285993+0.00947353j  0.15059743+0.j          0.01307056-0.00731918j\n",
       "  -0.05025943-0.00322168j -0.00789262+0.04258226j  0.01387343+0.00124151j\n",
       "  -0.00036115-0.00996116j -0.03367888-0.0270933j   0.01509877+0.05341546j]\n",
       " [ 0.00525071+0.03809771j  0.01307056+0.00731918j  0.14299326+0.j\n",
       "   0.00154271-0.03732823j -0.03573968-0.00036694j  0.00555402-0.00360518j\n",
       "  -0.006224  -0.01046508j -0.00598075-0.02439306j -0.01268019-0.00172473j]\n",
       " [-0.01320515-0.03710845j -0.05025943+0.00322168j  0.00154271+0.03732823j\n",
       "   0.12681145+0.j         -0.00215961-0.00539851j  0.00919718+0.00148894j\n",
       "  -0.02442502+0.0316799j   0.03791506+0.0318008j   0.00746324-0.03168657j]\n",
       " [ 0.01763997-0.04884285j -0.00789262-0.04258226j -0.03573968+0.00036694j\n",
       "  -0.00215961+0.00539851j  0.0956345 +0.j         -0.01980048-0.02695587j\n",
       "  -0.03329567+0.03628027j -0.00316618-0.00189337j  0.03904021-0.02023996j]\n",
       " [ 0.01016612+0.01398831j  0.01387343-0.00124151j  0.00555402+0.00360518j\n",
       "   0.00919718-0.00148894j -0.01980048+0.02695587j  0.07877234+0.j\n",
       "  -0.00389722-0.03289694j -0.01338037-0.01224106j -0.00098732-0.00403832j]\n",
       " [-0.03091916+0.01356777j -0.00036115+0.00996116j -0.006224  +0.01046508j\n",
       "  -0.02442502-0.0316799j  -0.03329567-0.03628027j -0.00389722+0.03289694j\n",
       "   0.09949543+0.j          0.00159886-0.020103j   -0.02660883-0.00588013j]\n",
       " [-0.03941877-0.00095149j -0.03367888+0.0270933j  -0.00598075+0.02439306j\n",
       "   0.03791506-0.0318008j  -0.00316618+0.00189337j -0.01338037+0.01224106j\n",
       "   0.00159886+0.020103j    0.09706046+0.j         -0.0184922 +0.01626493j]\n",
       " [ 0.02051546-0.02867404j  0.01509877-0.05341546j -0.01268019+0.00172473j\n",
       "   0.00746324+0.03168657j  0.03904021+0.02023996j -0.00098732+0.00403832j\n",
       "  -0.02660883+0.00588013j -0.0184922 -0.01626493j  0.11108295+0.j        ]]"
      ]
     },
     "execution_count": 12,
     "metadata": {},
     "output_type": "execute_result"
    }
   ],
   "source": [
    "\n",
    "ro = qp.rand_dm(9) ## generate the random density matrix\n",
    "def coef_of_gellmann(ro):\n",
    "\n",
    "    coef = []  ## the coefficient's dictionary (suitable format for saving as a data)\n",
    "    gellmann3_basis = gellmann_basis(3) ## the gellmann matrix for a 3 dimension system\n",
    "    \n",
    "    for i in range(9):\n",
    "        for j in range(9):\n",
    "            tensorP = np.kron(gellmann3_basis[\"G{}\".format(i)],gellmann3_basis[\"G{}\".format(j)]) ## Tensor product of gelllmann matrices\n",
    "            c = np.trace(np.dot(ro,tensorP))/4   ## dot product and trace\n",
    "            c = c.real       ## all of gellmann coefs is a real\n",
    "            c = round(c,8)  \n",
    "            coef.append(c)\n",
    "\n",
    "    index = np.array(coef)  ## change list to np.array() object\n",
    "    return coef\n",
    "print(coef_of_gellmann(ro))\n",
    "ro"
   ]
  },
  {
   "cell_type": "markdown",
   "metadata": {
    "colab_type": "text",
    "id": "WzRkyIctTRTr"
   },
   "source": [
    "this cell is just a test of this algotithm in 2 dimension systems."
   ]
  },
  {
   "cell_type": "code",
   "execution_count": 13,
   "metadata": {
    "colab": {
     "base_uri": "https://localhost:8080/",
     "height": 51
    },
    "colab_type": "code",
    "id": "vYXodiXXTRTx",
    "outputId": "25b4b606-1c6f-40a4-b835-04b97ca24451"
   },
   "outputs": [
    {
     "name": "stdout",
     "output_type": "stream",
     "text": [
      "81\n",
      "[ 0.03411602 -0.01282055 -0.04959134 -0.0162137   0.05330422 -0.02567253\n",
      "  0.01301234 -0.011233   -0.01193508  0.03804849  0.03271166  0.03399261\n",
      "  0.00064593  0.02196731  0.         -0.07369177  0.          0.03804849\n",
      "  0.02744585  0.03564444 -0.1089237  -0.08561629  0.01584587  0.\n",
      "  0.04303734  0.          0.02744585 -0.04621325  0.00064593 -0.07369177\n",
      " -0.03271166 -0.02668123  0.         -0.03399261  0.         -0.04621325\n",
      "  0.05791614 -0.071229    0.0985962   0.01022413  0.05002959 -0.08013022\n",
      "  0.06296194  0.09870324 -0.10388679 -0.01751242  0.03925517  0.03743489\n",
      "  0.04703118 -0.05569015  0.1166844  -0.12430102 -0.01260716  0.11136204\n",
      " -0.06393658 -0.08561629  0.04303734 -0.03564444 -0.0369138   0.\n",
      "  0.1089237   0.         -0.06393658  0.0304826   0.06510988 -0.00515788\n",
      "  0.00526502  0.11490565 -0.01859369 -0.03425105  0.04206313 -0.01862137\n",
      "  0.0407979   0.08091695 -0.01099981  0.01546619 -0.04122513  0.10790361\n",
      " -0.07404516 -0.06863001  0.25      ]\n"
     ]
    }
   ],
   "source": [
    "pauli1= np.array([[0,1],[1,0]])\n",
    "##pauli2= np.array([0,0-1j],[0+1j,0])\n",
    "pauli3= np.array([[1,0],[0,-1]])\n",
    "\n",
    "a= qp.rand_dm(2)\n",
    "c = np.trace(np.dot(a,pauli1))/2\n",
    "print(c)\n",
    "a"
   ]
  },
  {
   "cell_type": "markdown",
   "metadata": {
    "colab_type": "text",
    "id": "pXboYiXCFxNE"
   },
   "source": [
    "Making a Convex Hull for a 2_qutrit system and checking for new points in the convex Hull"
   ]
  },
  {
   "cell_type": "code",
   "execution_count": 15,
   "metadata": {
    "colab": {},
    "colab_type": "code",
    "id": "AsYLIE5wTRT_"
   },
   "outputs": [],
   "source": [
    "d_sub1 = 3\n",
    "d_sub2 = 3\n",
    "num_extreme_points = 83\n",
    "index = np.zeros((1,81))\n",
    "\n",
    "for i in range(num_extreme_points):\n",
    "    ro = qp.rand_dm(d_sub1 * d_sub2, pure=True)\n",
    "\n",
    "    coef = []\n",
    "    coef = coef_of_gellmann(ro)\n",
    "    coef = np.reshape(np.array(coef),(1,81))\n",
    "    index = np.vstack((index,coef))\n",
    "#print(np.shape(index[1:,]))"
   ]
  },
  {
   "cell_type": "markdown",
   "metadata": {
    "colab_type": "text",
    "id": "XwP73z2sF_Z6"
   },
   "source": [
    "Using different functions to build convex hull"
   ]
  },
  {
   "cell_type": "code",
   "execution_count": 8,
   "metadata": {
    "colab": {},
    "colab_type": "code",
    "id": "IIaPkvDlTRUM"
   },
   "outputs": [],
   "source": [
    "#generating convex hull from extreme points(Pure separable states)\n",
    "from scipy.spatial import ConvexHull\n",
    "from scipy.spatial import Delaunay\n",
    "#hull = Delaunay(index)\n",
    "#hull = ConvexHull(index)\n",
    "#print(index)"
   ]
  },
  {
   "cell_type": "markdown",
   "metadata": {
    "colab_type": "text",
    "id": "KCrXoRYqGKhJ"
   },
   "source": [
    "The function that checks if a point is in a convex hull"
   ]
  },
  {
   "cell_type": "code",
   "execution_count": 9,
   "metadata": {
    "colab": {},
    "colab_type": "code",
    "id": "JdYNikO4TRUY"
   },
   "outputs": [],
   "source": [
    "#This function checks if a point is in the convex hull or not\n",
    "def in_hull(p, hull):\n",
    "    \"\"\"\n",
    "    Test if points in `p` are in `hull`\n",
    "\n",
    "    `p` should be a `NxK` coordinates of `N` points in `K` dimensions\n",
    "    `hull` is either a scipy.spatial.Delaunay object or the `MxK` array of the \n",
    "    coordinates of `M` points in `K`dimensions for which Delaunay triangulation\n",
    "    will be computed\n",
    "    \"\"\"\n",
    "    from scipy.spatial import Delaunay\n",
    "    if not isinstance(hull,Delaunay):\n",
    "        hull = Delaunay(hull)\n",
    "\n",
    "    return hull.find_simplex(p)>=0"
   ]
  },
  {
   "cell_type": "markdown",
   "metadata": {
    "colab_type": "text",
    "id": "I6eNU3oqGX4O"
   },
   "source": [
    "Test"
   ]
  },
  {
   "cell_type": "code",
   "execution_count": 16,
   "metadata": {
    "colab": {},
    "colab_type": "code",
    "id": "bvCHFIcRTRUp"
   },
   "outputs": [
    {
     "name": "stdout",
     "output_type": "stream",
     "text": [
      "[[-2.424698e-02  3.898820e-03 -2.062850e-02  2.063487e-02  8.481900e-03\n",
      "   4.084100e-03 -3.510745e-02  2.384312e-02 -1.035160e-03  7.761220e-03\n",
      "   7.764620e-03 -1.093209e-02  3.876805e-02 -4.273177e-02  1.548906e-02\n",
      "   1.507003e-02  3.720262e-02 -2.360800e-04  1.768104e-02  6.473400e-04\n",
      "   1.514866e-02 -1.602554e-02 -2.452260e-02  5.229260e-03 -1.250279e-02\n",
      "   8.804920e-03  1.360203e-02  1.299680e-03 -4.001684e-02  2.317710e-03\n",
      "   4.694300e-04  2.622235e-02  3.185035e-02  1.222665e-02 -2.532996e-02\n",
      "  -1.434948e-02  8.139240e-03 -2.175503e-02 -7.824510e-03 -1.292924e-02\n",
      "  -3.345510e-03 -5.968860e-03  3.191260e-02  4.710328e-02  6.467630e-03\n",
      "   1.114629e-02  1.388967e-02  9.291840e-03 -1.888272e-02  1.541750e-03\n",
      "  -2.850930e-03 -1.575407e-02  3.361019e-02 -1.571077e-02  2.242580e-03\n",
      "   2.500200e-04  9.250840e-03 -2.643100e-04 -5.306510e-03 -9.971970e-03\n",
      "  -1.261009e-02  1.300286e-02  6.214280e-03 -1.374033e-02  1.438176e-02\n",
      "  -4.085130e-03 -2.130565e-02 -6.761900e-04  1.983930e-02  1.563836e-02\n",
      "  -2.730340e-03 -6.053600e-04 -2.815029e-02 -2.722030e-03 -4.677230e-03\n",
      "   1.060075e-02 -4.416284e-02 -2.638920e-03 -7.223710e-03 -2.170279e-02\n",
      "   2.500000e-01]]\n"
     ]
    }
   ],
   "source": [
    "ro = qp.rand_dm(9) ## generate the random density matrix\n",
    "\n",
    "coef = []\n",
    "coef = coef_of_gellmann(ro)\n",
    "coef = np.reshape(np.array(coef),(1,81)) \n",
    "\n",
    "print(coef)\n",
    "#print(in_hull(index[20:,],index))"
   ]
  },
  {
   "cell_type": "markdown",
   "metadata": {
    "colab_type": "text",
    "id": "f7zisTsWFWXr"
   },
   "source": [
    "Making a Convex Hull for a 2_qubit system and checking for new points in the convex Hull"
   ]
  },
  {
   "cell_type": "code",
   "execution_count": 10,
   "metadata": {},
   "outputs": [
    {
     "data": {
      "text/plain": [
       "{'G0': array([[ 1.+0.j,  0.+0.j],\n",
       "        [ 0.+0.j, -1.+0.j]]), 'G1': array([[ 0.+0.j, -0.-1.j],\n",
       "        [ 0.+1.j,  0.+0.j]]), 'G2': array([[0.+0.j, 1.+0.j],\n",
       "        [1.+0.j, 0.+0.j]]), 'G3': array([[1.+0.j, 0.+0.j],\n",
       "        [0.+0.j, 1.+0.j]])}"
      ]
     },
     "execution_count": 10,
     "metadata": {},
     "output_type": "execute_result"
    }
   ],
   "source": [
    "gellmann2_basis = {}\n",
    "\n",
    "k=0\n",
    "for i in range(1,3):\n",
    "    for j in range(1,3):\n",
    "        gellmann2_basis.update({\"G{}\".format(k):gellmann(i,j,2)})\n",
    "        k+=1\n",
    "        \n",
    "gellmann2_basis"
   ]
  },
  {
   "cell_type": "code",
   "execution_count": 15,
   "metadata": {
    "colab": {},
    "colab_type": "code",
    "id": "vz_c0dqHFoEw"
   },
   "outputs": [
    {
     "ename": "AttributeError",
     "evalue": "module 'qutip' has no attribute 'ran_dm'",
     "output_type": "error",
     "traceback": [
      "\u001b[1;31m---------------------------------------------------------------------------\u001b[0m",
      "\u001b[1;31mAttributeError\u001b[0m                            Traceback (most recent call last)",
      "\u001b[1;32m<ipython-input-15-dbe90c7d6b86>\u001b[0m in \u001b[0;36m<module>\u001b[1;34m\u001b[0m\n\u001b[0;32m      9\u001b[0m     \u001b[1;31m#psi_sub2 = qp.rand_ket(d_sub2)\u001b[0m\u001b[1;33m\u001b[0m\u001b[1;33m\u001b[0m\u001b[1;33m\u001b[0m\u001b[0m\n\u001b[0;32m     10\u001b[0m     \u001b[1;31m#ro_sub2  = psi_sub2*psi_sub2.dag()\u001b[0m\u001b[1;33m\u001b[0m\u001b[1;33m\u001b[0m\u001b[1;33m\u001b[0m\u001b[0m\n\u001b[1;32m---> 11\u001b[1;33m     \u001b[0mro\u001b[0m \u001b[1;33m=\u001b[0m \u001b[0mqp\u001b[0m\u001b[1;33m.\u001b[0m\u001b[0mran_dm\u001b[0m\u001b[1;33m(\u001b[0m\u001b[0md_sub1\u001b[0m \u001b[1;33m*\u001b[0m \u001b[0md_sub2\u001b[0m\u001b[1;33m,\u001b[0m \u001b[0mpure\u001b[0m\u001b[1;33m=\u001b[0m\u001b[1;32mTrue\u001b[0m\u001b[1;33m)\u001b[0m\u001b[1;33m\u001b[0m\u001b[1;33m\u001b[0m\u001b[0m\n\u001b[0m\u001b[0;32m     12\u001b[0m \u001b[1;33m\u001b[0m\u001b[0m\n\u001b[0;32m     13\u001b[0m     \u001b[0mcoef\u001b[0m \u001b[1;33m=\u001b[0m \u001b[1;33m[\u001b[0m\u001b[1;33m]\u001b[0m\u001b[1;33m\u001b[0m\u001b[1;33m\u001b[0m\u001b[0m\n",
      "\u001b[1;31mAttributeError\u001b[0m: module 'qutip' has no attribute 'ran_dm'"
     ]
    }
   ],
   "source": [
    "d_sub1 = 2\n",
    "d_sub2 = 2\n",
    "num_extreme_points = 20\n",
    "index = np.zeros((1,16))\n",
    "\n",
    "for i in range(num_extreme_points):\n",
    "    #psi_sub1 = qp.rand_ket(d_sub1)\n",
    "    #ro_sub1  = psi_sub1*psi_sub1.dag()\n",
    "    #psi_sub2 = qp.rand_ket(d_sub2)\n",
    "    #ro_sub2  = psi_sub2*psi_sub2.dag()\n",
    "    ro = qp.ran_dm(d_sub1 * d_sub2, pure=True)\n",
    "\n",
    "    coef = []\n",
    "    for i in range(d_sub1 * d_sub2):\n",
    "        for j in range(d_sub1 * d_sub2):\n",
    "            tensorP = np.kron(gellmann2_basis[\"G{}\".format(i)],gellmann2_basis[\"G{}\".format(j)])\n",
    "            c = np.trace(np.dot(ro,tensorP))/4\n",
    "            c = c.real\n",
    "            c = round(c,6)\n",
    "            coef.append(c)\n",
    "    coef = np.reshape(np.array(coef),(1,16))\n",
    "    index = np.vstack((index,coef))\n",
    "#print(np.real(index[1:,]))"
   ]
  },
  {
   "cell_type": "code",
   "execution_count": 15,
   "metadata": {
    "colab": {},
    "colab_type": "code",
    "id": "5pBJllkuFrtx"
   },
   "outputs": [],
   "source": [
    "#generating convex hull from extreme points(Pure separable states)\n",
    "from scipy.spatial import ConvexHull\n",
    "hull = ConvexHull(index[:,])\n",
    "#print(index)"
   ]
  },
  {
   "cell_type": "code",
   "execution_count": 16,
   "metadata": {
    "colab": {},
    "colab_type": "code",
    "id": "1KzOh7DDGjkJ"
   },
   "outputs": [],
   "source": [
    "def in_hull(p, hull):\n",
    "    \"\"\"\n",
    "    Test if points in `p` are in `hull`\n",
    "\n",
    "    `p` should be a `NxK` coordinates of `N` points in `K` dimensions\n",
    "    `hull` is either a scipy.spatial.Delaunay object or the `MxK` array of the \n",
    "    coordinates of `M` points in `K`dimensions for which Delaunay triangulation\n",
    "    will be computed\n",
    "    \"\"\"\n",
    "    from scipy.spatial import Delaunay\n",
    "    if not isinstance(hull,Delaunay):\n",
    "        hull = Delaunay(hull)\n",
    "\n",
    "    return hull.find_simplex(p)>=0"
   ]
  },
  {
   "cell_type": "code",
   "execution_count": 17,
   "metadata": {
    "colab": {},
    "colab_type": "code",
    "id": "0ADFgTc-GnC9"
   },
   "outputs": [
    {
     "data": {
      "text/plain": [
       "True"
      ]
     },
     "execution_count": 17,
     "metadata": {},
     "output_type": "execute_result"
    }
   ],
   "source": [
    "in_hull(index[2,],index)"
   ]
  }
 ],
 "metadata": {
  "colab": {
   "collapsed_sections": [],
   "name": "cofficients of gellmann expansion.ipynb",
   "provenance": []
  },
  "kernelspec": {
   "display_name": "Python 3",
   "language": "python",
   "name": "python3"
  },
  "language_info": {
   "codemirror_mode": {
    "name": "ipython",
    "version": 3
   },
   "file_extension": ".py",
   "mimetype": "text/x-python",
   "name": "python",
   "nbconvert_exporter": "python",
   "pygments_lexer": "ipython3",
   "version": "3.7.3"
  }
 },
 "nbformat": 4,
 "nbformat_minor": 1
}
