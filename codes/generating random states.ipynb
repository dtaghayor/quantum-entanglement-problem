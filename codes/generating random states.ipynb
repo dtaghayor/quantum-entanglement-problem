{
 "cells": [
  {
   "cell_type": "markdown",
   "metadata": {
    "colab_type": "text",
    "id": "7L2WbBt5uNag"
   },
   "source": [
    "# 1. Preliminaries"
   ]
  },
  {
   "cell_type": "code",
   "execution_count": 2,
   "metadata": {
    "colab": {
     "base_uri": "https://localhost:8080/",
     "height": 85
    },
    "colab_type": "code",
    "executionInfo": {
     "elapsed": 5024,
     "status": "ok",
     "timestamp": 1584469489951,
     "user": {
      "displayName": "mahkame salimi",
      "photoUrl": "https://lh3.googleusercontent.com/a-/AOh14GhXCkBWY2tBzsPtIAaeDyn3ng2gbWea3ReVrZhe=s64",
      "userId": "11757140415455670736"
     },
     "user_tz": -210
    },
    "id": "lHgp6b1NuNat",
    "outputId": "472e7f3d-53e9-4c23-99a5-bb712c0be181"
   },
   "outputs": [],
   "source": [
    "##!pip3 install qutip\n",
    "import numpy as np\n",
    "import qutip as qp\n",
    "import scipy as si\n",
    "import pandas as pd\n",
    "from random import random, choice, randint\n",
    "##from multiprocessing import Pool\n",
    "##from concurrent.futures import ThreadPoolExecutor"
   ]
  },
  {
   "cell_type": "markdown",
   "metadata": {
    "colab_type": "text",
    "id": "CkRTqRe-uNa_"
   },
   "source": [
    "# 2. Gell_Mann matrix generator function"
   ]
  },
  {
   "cell_type": "markdown",
   "metadata": {
    "colab_type": "text",
    "id": "Xaqtqo1quNbD"
   },
   "source": [
    "this function will generate the gellmann matrix of dimension d.\n",
    "\n",
    "the function \"gellmann(j,k,d)\" will generate the jth_kth gellmann matrix of dimension d. so for every d dimension we have d^2 gellmann matrix. one of them is I, so the number of gellmann matrix that is not trivial is (d^2 - 1)."
   ]
  },
  {
   "cell_type": "code",
   "execution_count": 3,
   "metadata": {
    "colab": {},
    "colab_type": "code",
    "id": "wjlZ7FERuNbH"
   },
   "outputs": [],
   "source": [
    "\"\"\"Generate generalized Gell-Mann matrices.\n",
    "  .. module:: gellmann.py\n",
    "     :synopsis: Generate generalized Gell-Mann matrices\n",
    "  .. moduleauthor:: Jonathan Gross <jarthurgross@gmail.com>\n",
    "\"\"\"\n",
    "from itertools import product\n",
    "\n",
    "def gellmann(j, k, d):\n",
    "    r\"\"\"Returns a generalized Gell-Mann matrix of dimension d.\n",
    "    \n",
    "    According to the convention in *Bloch Vectors for Qubits* by Bertlmann and\n",
    "    Krammer (2008), returns :math:`\\Lambda^j` for :math:`1\\leq j=k\\leq d-1`,\n",
    "    :math:`\\Lambda^{kj}_s` for :math:`1\\leq k<j\\leq d`, :math:`\\Lambda^{jk}_a`\n",
    "    for :math:`1\\leq j<k\\leq d`, and :math:`I` for :math:`j=k=d`.\n",
    "    Parameters\n",
    "    ----------\n",
    "    j : positive integer\n",
    "        Index for generalized Gell-Mann matrix\n",
    "    k : positive integer\n",
    "        Index for generalized Gell-Mann matrix\n",
    "    d : positive integer\n",
    "        Dimension of the generalized Gell-Mann matrix\n",
    "    Returns\n",
    "    -------\n",
    "    numpy.array\n",
    "        A genereralized Gell-Mann matrix.\n",
    "    \"\"\"\n",
    "\n",
    "    if j > k:\n",
    "        gjkd = np.zeros((d, d), dtype=np.complex128)\n",
    "        gjkd[j - 1][k - 1] = 1\n",
    "        gjkd[k - 1][j - 1] = 1\n",
    "    elif k > j:\n",
    "        gjkd = np.zeros((d, d), dtype=np.complex128)\n",
    "        gjkd[j - 1][k - 1] = -1.j\n",
    "        gjkd[k - 1][j - 1] = 1.j\n",
    "    elif j == k and j < d:\n",
    "        gjkd = np.sqrt(2/(j*(j + 1)))*np.diag([1 + 0.j if n <= j\n",
    "                                               else (-j + 0.j if n == (j + 1)\n",
    "                                                     else 0 + 0.j)\n",
    "                                               for n in range(1, d + 1)])\n",
    "    else:\n",
    "        gjkd = np.diag([1 + 0.j for n in range(1, d + 1)])\n",
    "\n",
    "    return gjkd\n",
    "\n",
    "def get_basis(d):\n",
    "    r\"\"\"Return a basis of operators.\n",
    "    \n",
    "    The basis is made up of orthogonal Hermitian operators on a Hilbert space\n",
    "    of dimension d, with the identity element in the last place.\n",
    "    Parameters\n",
    "    ----------\n",
    "    d : int\n",
    "        The dimension of the Hilbert space.\n",
    "    Returns\n",
    "    -------\n",
    "    list of numpy.array\n",
    "        The basis of operators.\n",
    "    \"\"\"\n",
    "    return [gellmann(j, k, d) for j, k in product(range(1, d + 1), repeat=2)]"
   ]
  },
  {
   "cell_type": "markdown",
   "metadata": {
    "colab_type": "text",
    "id": "1yB7X5nruNbU"
   },
   "source": [
    "in this cell the gellmann matrix of 3 dimension will generate and they will save in a dictionary and labeled them by numbers 0,1,...,8 ."
   ]
  },
  {
   "cell_type": "code",
   "execution_count": 4,
   "metadata": {
    "colab": {},
    "colab_type": "code",
    "id": "trodoU6zuNbY"
   },
   "outputs": [],
   "source": [
    "def gellmann3():\n",
    "    gellmann3_basis = {}\n",
    "\n",
    "    k=0\n",
    "    for i in range(1,4):\n",
    "        for j in range(1,4):\n",
    "            gellmann3_basis.update({\"G{}\".format(k):gellmann(i,j,3)})\n",
    "            k+=1\n",
    "        \n",
    "    return gellmann3_basis"
   ]
  },
  {
   "cell_type": "markdown",
   "metadata": {
    "colab_type": "text",
    "id": "K4Ck7uDYuNbl"
   },
   "source": [
    "# 3. Coefficients of gellmann's expansion"
   ]
  },
  {
   "cell_type": "markdown",
   "metadata": {
    "colab_type": "text",
    "id": "_sL95KUXuNbp"
   },
   "source": [
    "at this cell a random density matrix will generate by qutip library.\n",
    "\n",
    "for calculating the coefficients of gellmann expansion we do this iteration:\n",
    "1. calculate the tensor product of gellmann matrices for every coefficient\n",
    "2. calculate the dot product of \"ro\" and the \"gellmann's tensor product\"\n",
    "3. calculate the trace of this matrix and divide it into 4\n",
    "4. append it to our index list"
   ]
  },
  {
   "cell_type": "code",
   "execution_count": 5,
   "metadata": {
    "colab": {},
    "colab_type": "code",
    "id": "2Upf2jQDuNbt"
   },
   "outputs": [],
   "source": [
    "def coef_of_gellmann(ro):\n",
    "\n",
    "    coef = {}  ## the coefficient's dictionary (suitable format for saving as a data)\n",
    "    gellmann3_basis = gellmann3() ## the gellmann matrix for a 3 dimension system\n",
    "    \n",
    "    for i in range(9):\n",
    "        for j in range(9):\n",
    "            tensorP = np.kron(gellmann3_basis[\"G{}\".format(i)],gellmann3_basis[\"G{}\".format(j)]) ## Tensor product of gelllmann matrices\n",
    "            c = np.trace(np.dot(ro,tensorP))/4   ## dot product and trace\n",
    "            c = c.real       ## all of gellmann coefs is a real\n",
    "            c = round(c,8)  \n",
    "            coef.update({\"a{}{}\".format(i,j):c})  ## update the coef dict by a[i][j] and its gellmann coef for g[i][j]\n",
    "\n",
    "    index = np.array(coef)  ## change list to np.array() object\n",
    "    return coef"
   ]
  },
  {
   "cell_type": "markdown",
   "metadata": {
    "colab_type": "text",
    "id": "vfa0qkq6uNb6"
   },
   "source": [
    "this cell is just a test of this algotithm in 3 dimension bipatite systems."
   ]
  },
  {
   "cell_type": "code",
   "execution_count": 6,
   "metadata": {
    "colab": {},
    "colab_type": "code",
    "id": "uA-NxF1vuNcA"
   },
   "outputs": [
    {
     "data": {
      "text/plain": [
       "{'a00': -0.0180817,\n",
       " 'a01': -0.01034997,\n",
       " 'a02': -0.01499394,\n",
       " 'a03': -0.00046424,\n",
       " 'a04': -0.00893252,\n",
       " 'a05': 0.01692853,\n",
       " 'a06': 0.00829214,\n",
       " 'a07': 0.01601582,\n",
       " 'a08': 0.00202866,\n",
       " 'a10': 0.02149436,\n",
       " 'a11': -0.00804138,\n",
       " 'a12': 0.00413451,\n",
       " 'a13': -0.00787622,\n",
       " 'a14': 0.00626229,\n",
       " 'a15': -0.01120844,\n",
       " 'a16': -0.00442607,\n",
       " 'a17': -0.00564804,\n",
       " 'a18': 0.03659789,\n",
       " 'a20': -0.05208995,\n",
       " 'a21': -0.00704855,\n",
       " 'a22': 0.01457389,\n",
       " 'a23': 0.01367472,\n",
       " 'a24': -0.00031228,\n",
       " 'a25': 0.01794845,\n",
       " 'a26': -0.01113653,\n",
       " 'a27': 0.00836012,\n",
       " 'a28': 0.05279191,\n",
       " 'a30': -0.03467806,\n",
       " 'a31': 0.00175349,\n",
       " 'a32': -0.01735262,\n",
       " 'a33': -0.00387669,\n",
       " 'a34': -0.01771898,\n",
       " 'a35': 0.00564804,\n",
       " 'a36': -0.01337906,\n",
       " 'a37': -0.01120844,\n",
       " 'a38': -0.02384558,\n",
       " 'a40': 0.02930584,\n",
       " 'a41': -0.01453152,\n",
       " 'a42': 0.03617178,\n",
       " 'a43': -0.01187914,\n",
       " 'a44': 0.0164995,\n",
       " 'a45': -0.00702485,\n",
       " 'a46': -0.00577702,\n",
       " 'a47': 2.494e-05,\n",
       " 'a48': -0.0368276,\n",
       " 'a50': -0.00335873,\n",
       " 'a51': 0.00290104,\n",
       " 'a52': 0.01912693,\n",
       " 'a53': 0.00881548,\n",
       " 'a54': -0.02523828,\n",
       " 'a55': 0.01829445,\n",
       " 'a56': 0.01161134,\n",
       " 'a57': -0.012856,\n",
       " 'a58': 0.0168189,\n",
       " 'a60': 0.01665613,\n",
       " 'a61': -0.00667961,\n",
       " 'a62': 0.01113653,\n",
       " 'a63': 0.0100756,\n",
       " 'a64': 0.00876092,\n",
       " 'a65': -0.02785026,\n",
       " 'a66': 0.01457389,\n",
       " 'a67': -0.00757587,\n",
       " 'a68': -0.00582391,\n",
       " 'a70': -0.02432936,\n",
       " 'a71': 0.01030764,\n",
       " 'a72': -0.00114496,\n",
       " 'a73': 0.00401543,\n",
       " 'a74': -0.02559061,\n",
       " 'a75': 0.01021297,\n",
       " 'a76': -0.00975398,\n",
       " 'a77': 0.0168983,\n",
       " 'a78': -0.01433192,\n",
       " 'a80': 0.01298245,\n",
       " 'a81': -0.0242104,\n",
       " 'a82': 0.0238283,\n",
       " 'a83': 0.00814993,\n",
       " 'a84': 0.01389486,\n",
       " 'a85': 0.03433849,\n",
       " 'a86': 0.00406236,\n",
       " 'a87': -0.01251668,\n",
       " 'a88': 0.25}"
      ]
     },
     "execution_count": 6,
     "metadata": {},
     "output_type": "execute_result"
    }
   ],
   "source": [
    "N = 3\n",
    "\n",
    "ro = qp.rand_dm(N*N,0.5,dims=[[N,N], [N,N]])\n",
    "coef_of_gellmann(ro)"
   ]
  },
  {
   "cell_type": "markdown",
   "metadata": {
    "colab_type": "text",
    "id": "jSoxsPBiuNcJ"
   },
   "source": [
    "# 4. Generate entangled states (PPT)"
   ]
  },
  {
   "cell_type": "markdown",
   "metadata": {},
   "source": [
    "In this cell we define a PPT funcion that check positive partial transpose."
   ]
  },
  {
   "cell_type": "code",
   "execution_count": 7,
   "metadata": {
    "colab": {},
    "colab_type": "code",
    "id": "VWGoxF5EuNcL"
   },
   "outputs": [],
   "source": [
    "def PPT(ro):\n",
    "    \"\"\" positive partial transpose \n",
    "    input : density matrix\n",
    "    out put:list of  coefficient of gellmann matrices and detect entangeled states\n",
    "    \"\"\"\n",
    "\n",
    "    ro_pt = qp.partial_transpose(ro,[0,1])  ## partial transpose in subsystem 2\n",
    "    eig = ro_pt.eigenstates()   ## calculate the eigenvalues and eigenstates\n",
    "    eigv = [round(i,8) for i in eig[0]] \n",
    "    \n",
    "    result = coef_of_gellmann(ro)\n",
    "    \n",
    "    if (eigv[0]<0 ):\n",
    "            result.update({\"label\":1})  ## the entangled states that labeled by 1\n",
    "            return result\n",
    "    else :\n",
    "            result.update({\"label\":2})  ## the unknown states that labeled by 2\n",
    "            return result\n"
   ]
  },
  {
   "cell_type": "markdown",
   "metadata": {},
   "source": [
    "# 5. Generate separable states (Convex combination)"
   ]
  },
  {
   "cell_type": "markdown",
   "metadata": {},
   "source": [
    "in this cell we define two function that:\n",
    "1. Convex_Combination: this function is give a matrix list and return a convex combination of this matrices\n",
    "2. generate_ran_den_list: this function is generate a list of random density matrices"
   ]
  },
  {
   "cell_type": "code",
   "execution_count": 8,
   "metadata": {},
   "outputs": [],
   "source": [
    "def Convex_Combination(matrix_list, index=10):\n",
    "    \n",
    "    coef = np.random.dirichlet(np.ones(index),size=1)   ## generating list of numbers that is positive and its sum is 1 with length equal to 'index'\n",
    "    \n",
    "    seprable_state = qp.Qobj()    ## build an empty Qobj for cycle\n",
    "    for i in range(index):\n",
    "        a = choice(matrix_list)   ## choice a density matrix randomly\n",
    "        b = choice(matrix_list)   ## choice a density matrix randomly\n",
    "        \n",
    "        tensorP = np.kron(a,b) ## Tensor product of density matrices\n",
    "        tensorP *= round(coef[0][i],9)  ## product of tensorP and a coef that come from the coef list\n",
    "        \n",
    "        seprable_state += tensorP  ## at the last its a convex combination of tensor product of density matrices\n",
    "    \n",
    "    return seprable_state\n",
    "\n",
    "\n",
    "def generate_ran_den_list(dim, length= 100):\n",
    "    \n",
    "    result = []\n",
    "    for i in range(length):\n",
    "        density = round(random(),4)     ## for build a random number between 0 and 1\n",
    "\n",
    "        rand = qp.rand_dm(dim, density)   ## generate a random density matrix with dimension N\n",
    "        result.append(rand)        ## appending this random density matrix to ran_den_mat list    \n",
    "    \n",
    "    return result"
   ]
  },
  {
   "cell_type": "markdown",
   "metadata": {},
   "source": [
    "# 6. Generate data"
   ]
  },
  {
   "cell_type": "markdown",
   "metadata": {},
   "source": [
    "in this cell we build 500 000 random states and labeled that. after that we build a data frame for saving and using in future."
   ]
  },
  {
   "cell_type": "code",
   "execution_count": 9,
   "metadata": {
    "colab": {},
    "colab_type": "code",
    "id": "5kfhME1RuNcT"
   },
   "outputs": [
    {
     "name": "stdout",
     "output_type": "stream",
     "text": [
      "Wall time: 43.6 s\n"
     ]
    }
   ],
   "source": [
    "#%%time\n",
    "\n",
    "states={} #states\n",
    "dim = 3   ## dimension of a system\n",
    "R = 250000  ## the number of entangled states\n",
    "\n",
    "##generate the entangled states\n",
    "for i in range (1, R+1):\n",
    "    density = round(random(),4)     ## for build a random number between 0 and 1\n",
    "    \n",
    "    ro = qp.rand_dm(dim*dim, density, dims=[[dim,dim], [dim,dim]])     #generating random density matrix with a random density\n",
    "    states.update({\"{}\".format(i):PPT(ro)})     # update the states by its number and label and gellmann coefs\n",
    "\n",
    "\n",
    "##generate the separable states\n",
    "ran_den_mat = generate_ran_den_list(dim, 10000) ## a list of random density matrix for a system\n",
    "\n",
    "for i in range(R+1, 2*R+1):\n",
    "    index = randint(10,100)   ## build a number between 10 and 100 for using in function\n",
    "    sep = Convex_Combination(ran_den_mat, index)  ## generate a random seprable density matrix\n",
    "    \n",
    "    sep_coef = coef_of_gellmann(sep)   ## calculate the gellmann coefs\n",
    "    sep_coef.update({\"label\":0})   ## labeled seprable states by 0\n",
    "    \n",
    "    states.update({\"{}\".format(i):sep_coef})  ## update sep_states\n",
    "    \n",
    "    \n",
    "df = pd.DataFrame(data=states).T  # build a data frame by pandas\n",
    "df\n",
    "#df.to_csv('data_of_states.csv.zip')"
   ]
  },
  {
   "cell_type": "markdown",
   "metadata": {},
   "source": [
    "in this cell we save our data frame as a zip file"
   ]
  },
  {
   "cell_type": "code",
   "execution_count": 19,
   "metadata": {
    "colab": {
     "base_uri": "https://localhost:8080/",
     "height": 163
    },
    "colab_type": "code",
    "executionInfo": {
     "elapsed": 1231,
     "status": "error",
     "timestamp": 1584469470718,
     "user": {
      "displayName": "mahkame salimi",
      "photoUrl": "https://lh3.googleusercontent.com/a-/AOh14GhXCkBWY2tBzsPtIAaeDyn3ng2gbWea3ReVrZhe=s64",
      "userId": "11757140415455670736"
     },
     "user_tz": -210
    },
    "id": "rt63ussFuNcc",
    "outputId": "dae4bdb2-205b-4bbc-b702-de4e82d70511"
   },
   "outputs": [],
   "source": [
    "df.to_csv('data_of_states.csv.zip')\n",
    "##df.to_csv('data_of_states.csv')"
   ]
  }
 ],
 "metadata": {
  "colab": {
   "collapsed_sections": [],
   "name": "PPt.ipynb",
   "provenance": []
  },
  "kernelspec": {
   "display_name": "Python 3",
   "language": "python",
   "name": "python3"
  },
  "language_info": {
   "codemirror_mode": {
    "name": "ipython",
    "version": 3
   },
   "file_extension": ".py",
   "mimetype": "text/x-python",
   "name": "python",
   "nbconvert_exporter": "python",
   "pygments_lexer": "ipython3",
   "version": "3.7.1"
  }
 },
 "nbformat": 4,
 "nbformat_minor": 1
}
