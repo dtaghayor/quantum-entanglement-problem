{
 "cells": [
  {
   "cell_type": "markdown",
   "metadata": {
    "colab_type": "text",
    "id": "7L2WbBt5uNag"
   },
   "source": [
    "# 1. Preliminaries"
   ]
  },
  {
   "cell_type": "code",
   "execution_count": 3,
   "metadata": {
    "colab": {
     "base_uri": "https://localhost:8080/",
     "height": 85
    },
    "colab_type": "code",
    "executionInfo": {
     "elapsed": 5024,
     "status": "ok",
     "timestamp": 1584469489951,
     "user": {
      "displayName": "mahkame salimi",
      "photoUrl": "https://lh3.googleusercontent.com/a-/AOh14GhXCkBWY2tBzsPtIAaeDyn3ng2gbWea3ReVrZhe=s64",
      "userId": "11757140415455670736"
     },
     "user_tz": -210
    },
    "id": "lHgp6b1NuNat",
    "outputId": "472e7f3d-53e9-4c23-99a5-bb712c0be181"
   },
   "outputs": [],
   "source": [
    "##!pip3 install qutip\n",
    "import numpy as np\n",
    "import qutip as qp\n",
    "import scipy as si\n",
    "import pandas as pd\n",
    "from random import random   ## for generating a random number between 0 and 1"
   ]
  },
  {
   "cell_type": "markdown",
   "metadata": {
    "colab_type": "text",
    "id": "CkRTqRe-uNa_"
   },
   "source": [
    "# 2. Gell_Mann matrix generator function"
   ]
  },
  {
   "cell_type": "markdown",
   "metadata": {
    "colab_type": "text",
    "id": "Xaqtqo1quNbD"
   },
   "source": [
    "this function will generate the gellmann matrix of dimension d.\n",
    "\n",
    "the function \"gellmann(j,k,d)\" will generate the jth_kth gellmann matrix of dimension d. so for every d dimension we have d^2 gellmann matrix. one of them is I, so the number of gellmann matrix that is not trivial is (d^2 - 1)."
   ]
  },
  {
   "cell_type": "code",
   "execution_count": 4,
   "metadata": {
    "colab": {},
    "colab_type": "code",
    "id": "wjlZ7FERuNbH"
   },
   "outputs": [],
   "source": [
    "\"\"\"Generate generalized Gell-Mann matrices.\n",
    "  .. module:: gellmann.py\n",
    "     :synopsis: Generate generalized Gell-Mann matrices\n",
    "  .. moduleauthor:: Jonathan Gross <jarthurgross@gmail.com>\n",
    "\"\"\"\n",
    "from itertools import product\n",
    "\n",
    "def gellmann(j, k, d):\n",
    "    r\"\"\"Returns a generalized Gell-Mann matrix of dimension d.\n",
    "    \n",
    "    According to the convention in *Bloch Vectors for Qubits* by Bertlmann and\n",
    "    Krammer (2008), returns :math:`\\Lambda^j` for :math:`1\\leq j=k\\leq d-1`,\n",
    "    :math:`\\Lambda^{kj}_s` for :math:`1\\leq k<j\\leq d`, :math:`\\Lambda^{jk}_a`\n",
    "    for :math:`1\\leq j<k\\leq d`, and :math:`I` for :math:`j=k=d`.\n",
    "    Parameters\n",
    "    ----------\n",
    "    j : positive integer\n",
    "        Index for generalized Gell-Mann matrix\n",
    "    k : positive integer\n",
    "        Index for generalized Gell-Mann matrix\n",
    "    d : positive integer\n",
    "        Dimension of the generalized Gell-Mann matrix\n",
    "    Returns\n",
    "    -------\n",
    "    numpy.array\n",
    "        A genereralized Gell-Mann matrix.\n",
    "    \"\"\"\n",
    "\n",
    "    if j > k:\n",
    "        gjkd = np.zeros((d, d), dtype=np.complex128)\n",
    "        gjkd[j - 1][k - 1] = 1\n",
    "        gjkd[k - 1][j - 1] = 1\n",
    "    elif k > j:\n",
    "        gjkd = np.zeros((d, d), dtype=np.complex128)\n",
    "        gjkd[j - 1][k - 1] = -1.j\n",
    "        gjkd[k - 1][j - 1] = 1.j\n",
    "    elif j == k and j < d:\n",
    "        gjkd = np.sqrt(2/(j*(j + 1)))*np.diag([1 + 0.j if n <= j\n",
    "                                               else (-j + 0.j if n == (j + 1)\n",
    "                                                     else 0 + 0.j)\n",
    "                                               for n in range(1, d + 1)])\n",
    "    else:\n",
    "        gjkd = np.diag([1 + 0.j for n in range(1, d + 1)])\n",
    "\n",
    "    return gjkd\n",
    "\n",
    "def get_basis(d):\n",
    "    r\"\"\"Return a basis of operators.\n",
    "    \n",
    "    The basis is made up of orthogonal Hermitian operators on a Hilbert space\n",
    "    of dimension d, with the identity element in the last place.\n",
    "    Parameters\n",
    "    ----------\n",
    "    d : int\n",
    "        The dimension of the Hilbert space.\n",
    "    Returns\n",
    "    -------\n",
    "    list of numpy.array\n",
    "        The basis of operators.\n",
    "    \"\"\"\n",
    "    return [gellmann(j, k, d) for j, k in product(range(1, d + 1), repeat=2)]"
   ]
  },
  {
   "cell_type": "markdown",
   "metadata": {
    "colab_type": "text",
    "id": "1yB7X5nruNbU"
   },
   "source": [
    "in this cell the gellmann matrix of 3 dimension will generate and they will save in a dictionary and labeled them by numbers 0,1,...,8 ."
   ]
  },
  {
   "cell_type": "code",
   "execution_count": 5,
   "metadata": {
    "colab": {},
    "colab_type": "code",
    "id": "trodoU6zuNbY"
   },
   "outputs": [],
   "source": [
    "def gellmann3():\n",
    "    gellmann3_basis = {}\n",
    "\n",
    "    k=0\n",
    "    for i in range(1,4):\n",
    "        for j in range(1,4):\n",
    "            gellmann3_basis.update({\"G{}\".format(k):gellmann(i,j,3)})\n",
    "            k+=1\n",
    "        \n",
    "    return gellmann3_basis"
   ]
  },
  {
   "cell_type": "markdown",
   "metadata": {
    "colab_type": "text",
    "id": "K4Ck7uDYuNbl"
   },
   "source": [
    "# 3. Coefficients of gellmann's expansion"
   ]
  },
  {
   "cell_type": "markdown",
   "metadata": {
    "colab_type": "text",
    "id": "_sL95KUXuNbp"
   },
   "source": [
    "at this cell a random density matrix will generate by qutip library.\n",
    "\n",
    "for calculating the coefficients of gellmann expansion we do this iteration:\n",
    "1. calculate the tensor product of gellmann matrices for every coefficient\n",
    "2. calculate the dot product of \"ro\" and the \"gellmann's tensor product\"\n",
    "3. calculate the trace of this matrix and divide it into 4\n",
    "4. append it to our index list"
   ]
  },
  {
   "cell_type": "code",
   "execution_count": 6,
   "metadata": {
    "colab": {},
    "colab_type": "code",
    "id": "2Upf2jQDuNbt"
   },
   "outputs": [],
   "source": [
    "def coef_of_gellmann(ro):\n",
    "\n",
    "    coef = {}  ## the coefficient's dictionary (suitable format for saving as a data)\n",
    "    gellmann3_basis = gellmann3() ## the gellmann matrix for a 3 dimension system\n",
    "    \n",
    "    for i in range(9):\n",
    "        for j in range(9):\n",
    "            tensorP = np.kron(gellmann3_basis[\"G{}\".format(i)],gellmann3_basis[\"G{}\".format(j)]) ## Tensor product of gelllmann matrices\n",
    "            c = np.trace(np.dot(ro,tensorP))/4   ## dot product and trace\n",
    "            c = c.real       ## all of gellmann coefs is a real\n",
    "            c = round(c,8)  \n",
    "            coef.update({\"a{}{}\".format(i,j):c})  ## update the coef dict by a[i][j] and its gellmann coef for g[i][j]\n",
    "\n",
    "    index = np.array(coef)  ## change list to np.array() object\n",
    "    return(coef)"
   ]
  },
  {
   "cell_type": "markdown",
   "metadata": {
    "colab_type": "text",
    "id": "vfa0qkq6uNb6"
   },
   "source": [
    "this cell is just a test of this algotithm in 3 dimension bipatite systems."
   ]
  },
  {
   "cell_type": "code",
   "execution_count": 7,
   "metadata": {
    "colab": {},
    "colab_type": "code",
    "id": "uA-NxF1vuNcA"
   },
   "outputs": [
    {
     "data": {
      "text/plain": [
       "{'a00': 0.0522061,\n",
       " 'a01': -0.00490407,\n",
       " 'a02': 0.00634005,\n",
       " 'a03': -0.00654068,\n",
       " 'a04': -0.02292012,\n",
       " 'a05': -0.01468126,\n",
       " 'a06': -0.01464795,\n",
       " 'a07': -0.00364502,\n",
       " 'a08': 0.01719028,\n",
       " 'a10': -0.04022264,\n",
       " 'a11': 0.03710369,\n",
       " 'a12': -0.00768742,\n",
       " 'a13': 0.02555521,\n",
       " 'a14': 0.00309645,\n",
       " 'a15': 0.00720487,\n",
       " 'a16': 0.00043187,\n",
       " 'a17': -0.00399608,\n",
       " 'a18': 0.00436516,\n",
       " 'a20': -0.00631644,\n",
       " 'a21': 0.0115177,\n",
       " 'a22': 0.00232515,\n",
       " 'a23': 0.0057378,\n",
       " 'a24': -0.02170102,\n",
       " 'a25': -0.00769231,\n",
       " 'a26': 0.02314279,\n",
       " 'a27': -0.01268186,\n",
       " 'a28': -0.00781535,\n",
       " 'a30': -0.02496112,\n",
       " 'a31': -0.00824812,\n",
       " 'a32': -0.0226539,\n",
       " 'a33': -0.04135151,\n",
       " 'a34': 0.00122721,\n",
       " 'a35': 0.00439332,\n",
       " 'a36': -0.0405331,\n",
       " 'a37': -5.91e-05,\n",
       " 'a38': -0.02902844,\n",
       " 'a40': 0.00278951,\n",
       " 'a41': 0.03620197,\n",
       " 'a42': 0.02254797,\n",
       " 'a43': 0.00484,\n",
       " 'a44': 0.02711497,\n",
       " 'a45': 0.02181639,\n",
       " 'a46': 0.01220908,\n",
       " 'a47': -0.0127444,\n",
       " 'a48': 0.04145063,\n",
       " 'a50': 0.03477071,\n",
       " 'a51': 0.02053101,\n",
       " 'a52': -0.00563336,\n",
       " 'a53': -0.0083802,\n",
       " 'a54': -0.00022288,\n",
       " 'a55': 0.0152185,\n",
       " 'a56': -0.02995448,\n",
       " 'a57': -0.01875976,\n",
       " 'a58': -0.01779358,\n",
       " 'a60': -0.01780655,\n",
       " 'a61': 0.00034326,\n",
       " 'a62': 0.03593137,\n",
       " 'a63': -0.00237009,\n",
       " 'a64': 0.00169866,\n",
       " 'a65': -0.00393082,\n",
       " 'a66': -0.01726686,\n",
       " 'a67': 0.0138188,\n",
       " 'a68': -0.0010843,\n",
       " 'a70': 0.01882953,\n",
       " 'a71': 0.00817361,\n",
       " 'a72': -0.02818948,\n",
       " 'a73': 0.03722593,\n",
       " 'a74': 0.01305684,\n",
       " 'a75': -0.03565486,\n",
       " 'a76': 0.00229552,\n",
       " 'a77': -0.01431669,\n",
       " 'a78': 0.01267592,\n",
       " 'a80': 0.01641461,\n",
       " 'a81': 0.02930604,\n",
       " 'a82': -0.00701231,\n",
       " 'a83': 0.02034894,\n",
       " 'a84': 0.04571728,\n",
       " 'a85': 0.00312833,\n",
       " 'a86': -0.0010059,\n",
       " 'a87': 0.0165045,\n",
       " 'a88': 0.25}"
      ]
     },
     "execution_count": 7,
     "metadata": {},
     "output_type": "execute_result"
    }
   ],
   "source": [
    "N = 3\n",
    "\n",
    "ro = qp.rand_dm(N*N,0.5,dims=[[N,N], [N,N]])\n",
    "coef_of_gellmann(ro)"
   ]
  },
  {
   "cell_type": "markdown",
   "metadata": {
    "colab_type": "text",
    "id": "jSoxsPBiuNcJ"
   },
   "source": [
    "# 4. PPT"
   ]
  },
  {
   "cell_type": "markdown",
   "metadata": {},
   "source": [
    "In this cell we define a PPT funcion that check positive partial transpose."
   ]
  },
  {
   "cell_type": "code",
   "execution_count": 8,
   "metadata": {
    "colab": {},
    "colab_type": "code",
    "id": "VWGoxF5EuNcL"
   },
   "outputs": [],
   "source": [
    "def PPT(ro):\n",
    "    \"\"\" positive partial transpose \n",
    "    input : density matrix\n",
    "    out put:list of  coefficient of gellmann matrices and detect entangeled states\n",
    "    \"\"\"\n",
    "\n",
    "    ro_pt = qp.partial_transpose(ro,[0,1])  ## partial transpose in subsystem 2\n",
    "    eig = ro_pt.eigenstates()   ## calculate the eigenvalues and eigenstates\n",
    "    eigv = [round(i,8) for i in eig[0]] \n",
    "    \n",
    "    result = coef_of_gellmann(ro)\n",
    "    \n",
    "    if (eigv[0]<0 ):\n",
    "            result.update({\"label\":1})  ## the entangled states that labeled by 1\n",
    "            return result\n",
    "    else :\n",
    "            result.update({\"label\":2})  ## the unknown states that labeled by 2\n",
    "            return result\n"
   ]
  },
  {
   "cell_type": "markdown",
   "metadata": {},
   "source": [
    "in this cell we build 100 000 random states and labeled that. after that we build a data frame for saving and using in future."
   ]
  },
  {
   "cell_type": "code",
   "execution_count": 18,
   "metadata": {
    "colab": {},
    "colab_type": "code",
    "id": "5kfhME1RuNcT"
   },
   "outputs": [
    {
     "data": {
      "text/html": [
       "<div>\n",
       "<style scoped>\n",
       "    .dataframe tbody tr th:only-of-type {\n",
       "        vertical-align: middle;\n",
       "    }\n",
       "\n",
       "    .dataframe tbody tr th {\n",
       "        vertical-align: top;\n",
       "    }\n",
       "\n",
       "    .dataframe thead th {\n",
       "        text-align: right;\n",
       "    }\n",
       "</style>\n",
       "<table border=\"1\" class=\"dataframe\">\n",
       "  <thead>\n",
       "    <tr style=\"text-align: right;\">\n",
       "      <th></th>\n",
       "      <th>a00</th>\n",
       "      <th>a01</th>\n",
       "      <th>a02</th>\n",
       "      <th>a03</th>\n",
       "      <th>a04</th>\n",
       "      <th>a05</th>\n",
       "      <th>a06</th>\n",
       "      <th>a07</th>\n",
       "      <th>a08</th>\n",
       "      <th>a10</th>\n",
       "      <th>...</th>\n",
       "      <th>a80</th>\n",
       "      <th>a81</th>\n",
       "      <th>a82</th>\n",
       "      <th>a83</th>\n",
       "      <th>a84</th>\n",
       "      <th>a85</th>\n",
       "      <th>a86</th>\n",
       "      <th>a87</th>\n",
       "      <th>a88</th>\n",
       "      <th>label</th>\n",
       "    </tr>\n",
       "  </thead>\n",
       "  <tbody>\n",
       "    <tr>\n",
       "      <th>1</th>\n",
       "      <td>-0.050046</td>\n",
       "      <td>-0.001101</td>\n",
       "      <td>-0.006942</td>\n",
       "      <td>0.002876</td>\n",
       "      <td>0.048643</td>\n",
       "      <td>0.010141</td>\n",
       "      <td>-0.020011</td>\n",
       "      <td>0.017624</td>\n",
       "      <td>-0.062956</td>\n",
       "      <td>0.009758</td>\n",
       "      <td>...</td>\n",
       "      <td>-0.024817</td>\n",
       "      <td>0.019312</td>\n",
       "      <td>0.012277</td>\n",
       "      <td>-0.004409</td>\n",
       "      <td>-0.027848</td>\n",
       "      <td>0.017867</td>\n",
       "      <td>0.002271</td>\n",
       "      <td>-0.035783</td>\n",
       "      <td>0.25</td>\n",
       "      <td>1.0</td>\n",
       "    </tr>\n",
       "    <tr>\n",
       "      <th>2</th>\n",
       "      <td>0.004782</td>\n",
       "      <td>-0.015070</td>\n",
       "      <td>0.004060</td>\n",
       "      <td>-0.001692</td>\n",
       "      <td>0.007281</td>\n",
       "      <td>0.013864</td>\n",
       "      <td>0.015714</td>\n",
       "      <td>0.000917</td>\n",
       "      <td>-0.026297</td>\n",
       "      <td>0.024703</td>\n",
       "      <td>...</td>\n",
       "      <td>-0.025919</td>\n",
       "      <td>0.009750</td>\n",
       "      <td>-0.029247</td>\n",
       "      <td>0.000992</td>\n",
       "      <td>-0.033403</td>\n",
       "      <td>-0.016010</td>\n",
       "      <td>0.004529</td>\n",
       "      <td>0.041503</td>\n",
       "      <td>0.25</td>\n",
       "      <td>1.0</td>\n",
       "    </tr>\n",
       "    <tr>\n",
       "      <th>3</th>\n",
       "      <td>0.000000</td>\n",
       "      <td>0.000000</td>\n",
       "      <td>0.000000</td>\n",
       "      <td>0.000000</td>\n",
       "      <td>-0.144338</td>\n",
       "      <td>0.000000</td>\n",
       "      <td>0.000000</td>\n",
       "      <td>0.000000</td>\n",
       "      <td>0.125000</td>\n",
       "      <td>0.000000</td>\n",
       "      <td>...</td>\n",
       "      <td>-0.125000</td>\n",
       "      <td>0.000000</td>\n",
       "      <td>0.000000</td>\n",
       "      <td>0.000000</td>\n",
       "      <td>-0.072169</td>\n",
       "      <td>0.000000</td>\n",
       "      <td>0.000000</td>\n",
       "      <td>0.000000</td>\n",
       "      <td>0.25</td>\n",
       "      <td>2.0</td>\n",
       "    </tr>\n",
       "    <tr>\n",
       "      <th>4</th>\n",
       "      <td>-0.068928</td>\n",
       "      <td>0.000000</td>\n",
       "      <td>0.000000</td>\n",
       "      <td>0.000000</td>\n",
       "      <td>-0.023303</td>\n",
       "      <td>0.000000</td>\n",
       "      <td>0.000000</td>\n",
       "      <td>0.000000</td>\n",
       "      <td>-0.096482</td>\n",
       "      <td>0.000000</td>\n",
       "      <td>...</td>\n",
       "      <td>0.017761</td>\n",
       "      <td>0.027392</td>\n",
       "      <td>0.000000</td>\n",
       "      <td>0.015028</td>\n",
       "      <td>-0.016923</td>\n",
       "      <td>0.000000</td>\n",
       "      <td>0.000000</td>\n",
       "      <td>0.000000</td>\n",
       "      <td>0.25</td>\n",
       "      <td>1.0</td>\n",
       "    </tr>\n",
       "    <tr>\n",
       "      <th>5</th>\n",
       "      <td>0.046041</td>\n",
       "      <td>-0.045457</td>\n",
       "      <td>0.011715</td>\n",
       "      <td>0.017982</td>\n",
       "      <td>-0.004921</td>\n",
       "      <td>-0.007274</td>\n",
       "      <td>0.005969</td>\n",
       "      <td>0.007667</td>\n",
       "      <td>0.008899</td>\n",
       "      <td>0.002465</td>\n",
       "      <td>...</td>\n",
       "      <td>0.071236</td>\n",
       "      <td>0.002778</td>\n",
       "      <td>-0.008064</td>\n",
       "      <td>0.013210</td>\n",
       "      <td>-0.018381</td>\n",
       "      <td>0.007274</td>\n",
       "      <td>-0.002752</td>\n",
       "      <td>-0.007667</td>\n",
       "      <td>0.25</td>\n",
       "      <td>1.0</td>\n",
       "    </tr>\n",
       "  </tbody>\n",
       "</table>\n",
       "<p>5 rows × 82 columns</p>\n",
       "</div>"
      ],
      "text/plain": [
       "        a00       a01       a02       a03       a04       a05       a06  \\\n",
       "1 -0.050046 -0.001101 -0.006942  0.002876  0.048643  0.010141 -0.020011   \n",
       "2  0.004782 -0.015070  0.004060 -0.001692  0.007281  0.013864  0.015714   \n",
       "3  0.000000  0.000000  0.000000  0.000000 -0.144338  0.000000  0.000000   \n",
       "4 -0.068928  0.000000  0.000000  0.000000 -0.023303  0.000000  0.000000   \n",
       "5  0.046041 -0.045457  0.011715  0.017982 -0.004921 -0.007274  0.005969   \n",
       "\n",
       "        a07       a08       a10  ...       a80       a81       a82       a83  \\\n",
       "1  0.017624 -0.062956  0.009758  ... -0.024817  0.019312  0.012277 -0.004409   \n",
       "2  0.000917 -0.026297  0.024703  ... -0.025919  0.009750 -0.029247  0.000992   \n",
       "3  0.000000  0.125000  0.000000  ... -0.125000  0.000000  0.000000  0.000000   \n",
       "4  0.000000 -0.096482  0.000000  ...  0.017761  0.027392  0.000000  0.015028   \n",
       "5  0.007667  0.008899  0.002465  ...  0.071236  0.002778 -0.008064  0.013210   \n",
       "\n",
       "        a84       a85       a86       a87   a88  label  \n",
       "1 -0.027848  0.017867  0.002271 -0.035783  0.25    1.0  \n",
       "2 -0.033403 -0.016010  0.004529  0.041503  0.25    1.0  \n",
       "3 -0.072169  0.000000  0.000000  0.000000  0.25    2.0  \n",
       "4 -0.016923  0.000000  0.000000  0.000000  0.25    1.0  \n",
       "5 -0.018381  0.007274 -0.002752 -0.007667  0.25    1.0  \n",
       "\n",
       "[5 rows x 82 columns]"
      ]
     },
     "execution_count": 18,
     "metadata": {},
     "output_type": "execute_result"
    }
   ],
   "source": [
    "#time\n",
    "\n",
    "states={} #states\n",
    "N = 3 #dimension\n",
    "\n",
    "for i in range (1,100000+1):\n",
    "    density = round(random(),4)     ## for build a random number between 0 and 1\n",
    "    \n",
    "    ro = qp.rand_dm(N*N, density, dims=[[N,N], [N,N]])     #generating random density matrix with a random density\n",
    "    states.update({\"{}\".format(i):PPT(ro)})     # update the states by its number and label and gellmann coefs\n",
    "\n",
    "df = pd.DataFrame(data=states).T  # build a data frame by pandas\n",
    "df.head()"
   ]
  },
  {
   "cell_type": "markdown",
   "metadata": {},
   "source": [
    "in this cell we save our data frame as a zip file"
   ]
  },
  {
   "cell_type": "code",
   "execution_count": 19,
   "metadata": {
    "colab": {
     "base_uri": "https://localhost:8080/",
     "height": 163
    },
    "colab_type": "code",
    "executionInfo": {
     "elapsed": 1231,
     "status": "error",
     "timestamp": 1584469470718,
     "user": {
      "displayName": "mahkame salimi",
      "photoUrl": "https://lh3.googleusercontent.com/a-/AOh14GhXCkBWY2tBzsPtIAaeDyn3ng2gbWea3ReVrZhe=s64",
      "userId": "11757140415455670736"
     },
     "user_tz": -210
    },
    "id": "rt63ussFuNcc",
    "outputId": "dae4bdb2-205b-4bbc-b702-de4e82d70511"
   },
   "outputs": [],
   "source": [
    "df.to_csv('data_of_states.csv.zip')\n",
    "##df.to_csv('data_of_states.csv')"
   ]
  }
 ],
 "metadata": {
  "colab": {
   "collapsed_sections": [],
   "name": "PPt.ipynb",
   "provenance": []
  },
  "kernelspec": {
   "display_name": "Python 3",
   "language": "python",
   "name": "python3"
  },
  "language_info": {
   "codemirror_mode": {
    "name": "ipython",
    "version": 3
   },
   "file_extension": ".py",
   "mimetype": "text/x-python",
   "name": "python",
   "nbconvert_exporter": "python",
   "pygments_lexer": "ipython3",
   "version": "3.7.1"
  }
 },
 "nbformat": 4,
 "nbformat_minor": 1
}
